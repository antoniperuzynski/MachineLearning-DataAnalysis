{
 "cells": [
  {
   "cell_type": "markdown",
   "id": "0263117e",
   "metadata": {},
   "source": [
    "## Maszynowa analiza danych 2022/2023\n",
    "### Laboratorium 1 \n",
    "<i> Antoni Perużyński </i>  \n",
    "<i> Informatyka Stacjonarne </i>"
   ]
  },
  {
   "cell_type": "markdown",
   "id": "74043732",
   "metadata": {},
   "source": [
    "### Zadanie 1\n",
    "\n",
    "Proszę przygotować rozwiązanie (program, funkcję, polecenie) w języku Python pozwalające na znormalizowanie metodą:\n",
    "- min-max;\n",
    "- standaryzacji; \n",
    "\n",
    "zmiennych zbioru danych (kolumn macierzy, ramki danych)."
   ]
  },
  {
   "cell_type": "code",
   "execution_count": 1,
   "id": "16642ec7",
   "metadata": {},
   "outputs": [],
   "source": [
    "import pandas as pd"
   ]
  },
  {
   "cell_type": "code",
   "execution_count": 2,
   "id": "bab927de",
   "metadata": {},
   "outputs": [],
   "source": [
    "def minMaxAndStand(df):\n",
    "\n",
    "    for i in range(df.shape[1]):\n",
    "        df[\"min-max feature \" + str(i)] = (df.iloc[:,[i]] - df.iloc[:,[i]].min())/(df.iloc[:,[i]].max()-df.iloc[:,[i]].min())\n",
    "        df[\"stand feature \" + str(i)] = (df.iloc[:,[i]] - df.iloc[:,[i]].mean()) / df.iloc[:,[i]].std(ddof=0)\n",
    "\n",
    "    return(df)"
   ]
  },
  {
   "cell_type": "code",
   "execution_count": 3,
   "id": "c4bd0d7a",
   "metadata": {},
   "outputs": [
    {
     "data": {
      "text/html": [
       "<div>\n",
       "<style scoped>\n",
       "    .dataframe tbody tr th:only-of-type {\n",
       "        vertical-align: middle;\n",
       "    }\n",
       "\n",
       "    .dataframe tbody tr th {\n",
       "        vertical-align: top;\n",
       "    }\n",
       "\n",
       "    .dataframe thead th {\n",
       "        text-align: right;\n",
       "    }\n",
       "</style>\n",
       "<table border=\"1\" class=\"dataframe\">\n",
       "  <thead>\n",
       "    <tr style=\"text-align: right;\">\n",
       "      <th></th>\n",
       "      <th>x1</th>\n",
       "      <th>x2</th>\n",
       "      <th>min-max feature 0</th>\n",
       "      <th>stand feature 0</th>\n",
       "      <th>min-max feature 1</th>\n",
       "      <th>stand feature 1</th>\n",
       "    </tr>\n",
       "  </thead>\n",
       "  <tbody>\n",
       "    <tr>\n",
       "      <th>0</th>\n",
       "      <td>1</td>\n",
       "      <td>10</td>\n",
       "      <td>0.000000</td>\n",
       "      <td>-0.950090</td>\n",
       "      <td>0.000000</td>\n",
       "      <td>-1.341641</td>\n",
       "    </tr>\n",
       "    <tr>\n",
       "      <th>1</th>\n",
       "      <td>7</td>\n",
       "      <td>11</td>\n",
       "      <td>0.113208</td>\n",
       "      <td>-0.657754</td>\n",
       "      <td>0.333333</td>\n",
       "      <td>-0.447214</td>\n",
       "    </tr>\n",
       "    <tr>\n",
       "      <th>2</th>\n",
       "      <td>20</td>\n",
       "      <td>12</td>\n",
       "      <td>0.358491</td>\n",
       "      <td>-0.024361</td>\n",
       "      <td>0.666667</td>\n",
       "      <td>0.447214</td>\n",
       "    </tr>\n",
       "    <tr>\n",
       "      <th>3</th>\n",
       "      <td>54</td>\n",
       "      <td>13</td>\n",
       "      <td>1.000000</td>\n",
       "      <td>1.632206</td>\n",
       "      <td>1.000000</td>\n",
       "      <td>1.341641</td>\n",
       "    </tr>\n",
       "  </tbody>\n",
       "</table>\n",
       "</div>"
      ],
      "text/plain": [
       "   x1  x2  min-max feature 0  stand feature 0  min-max feature 1  \\\n",
       "0   1  10           0.000000        -0.950090           0.000000   \n",
       "1   7  11           0.113208        -0.657754           0.333333   \n",
       "2  20  12           0.358491        -0.024361           0.666667   \n",
       "3  54  13           1.000000         1.632206           1.000000   \n",
       "\n",
       "   stand feature 1  \n",
       "0        -1.341641  \n",
       "1        -0.447214  \n",
       "2         0.447214  \n",
       "3         1.341641  "
      ]
     },
     "execution_count": 3,
     "metadata": {},
     "output_type": "execute_result"
    }
   ],
   "source": [
    "data = {\"x1\": [1,7,20,54],\n",
    "       \"x2\": [10,11,12,13]}\n",
    "\n",
    "df1 = pd.DataFrame(data)\n",
    "df1 = minMaxAndStand(df1)\n",
    "df1"
   ]
  }
 ],
 "metadata": {
  "kernelspec": {
   "display_name": "Python 3 (ipykernel)",
   "language": "python",
   "name": "python3"
  },
  "language_info": {
   "codemirror_mode": {
    "name": "ipython",
    "version": 3
   },
   "file_extension": ".py",
   "mimetype": "text/x-python",
   "name": "python",
   "nbconvert_exporter": "python",
   "pygments_lexer": "ipython3",
   "version": "3.9.7"
  }
 },
 "nbformat": 4,
 "nbformat_minor": 5
}
